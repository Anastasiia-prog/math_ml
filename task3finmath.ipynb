{
 "cells": [
  {
   "cell_type": "code",
   "execution_count": 60,
   "metadata": {},
   "outputs": [],
   "source": [
    "S = 80\n",
    "X = 80\n",
    "T = 2\n",
    "r = 0.04\n",
    "sigma = 0.5\n",
    "N = range(20, 400)"
   ]
  },
  {
   "cell_type": "code",
   "execution_count": 67,
   "metadata": {},
   "outputs": [
    {
     "data": {
      "image/png": "[encoded data removed]",
      "text/plain": [
       "<Figure size 864x576 with 1 Axes>"
      ]
     },
     "metadata": {},
     "output_type": "display_data"
    }
   ],
   "source": [
    "from scipy.stats import norm\n",
    "import matplotlib.pyplot as plt\n",
    "import numpy as np\n",
    "import seaborn as sns\n",
    "import warnings\n",
    "\n",
    "warnings.filterwarnings(\"ignore\")\n",
    "\n",
    "# European options\n",
    "def callPrice(S, X, r, T, sigma): \n",
    "    d1 = (np.log(S/X) + (r + 0.5 * sigma**2)*T)/(sigma * np.sqrt(T))\n",
    "    d2 = d1 - sigma * np.sqrt(T)\n",
    "    return (S * norm.cdf(d1) - X * np.exp(-r * T) * norm.cdf(d2))\n",
    "\n",
    "def putPrice(S, X, r, T, sigma):\n",
    "    d1 = (np.log(S/X) + (r + 0.5 * sigma**2)*T)/(sigma * np.sqrt(T));\n",
    "    d2 = d1 - sigma * np.sqrt(T);\n",
    "    return (X * np.exp(-r * T) * norm.cdf(-d2) - S * norm.cdf(-d1))\n",
    "\n",
    "def callPayoff(S, X, callprice):\n",
    "    return list(map(lambda s: max(s - X, 0) - callprice, S))\n",
    "\n",
    "def putPayoff(S, X, putPrice):\n",
    "    return list(map(lambda s: max(X - s, 0) - putprice, S))\n",
    "\n",
    "callprice = callPrice(S, X, r, T, sigma)\n",
    "delS = [t/5 for t in range(0,1000)] \n",
    "callpayof = callPayoff(delS, X, callprice)\n",
    "\n",
    "putprice = putPrice(S, X, r, T, sigma)\n",
    "putpayof = putPayoff(delS, X, putprice)\n",
    "\n",
    "sns.set(rc={'figure.figsize':(12,8)})\n",
    "plt.subplot(221)\n",
    "plt.legend('callPayoff', 'putPayoff')\n",
    "plt.plot(delS, callpayof, 'r')\n",
    "plt.plot(delS, putpayof, 'b')\n",
    "\n",
    "St = np.arange(0, 80)\n",
    "vals_call = [callPrice(S, X, r, T, sigma) for x in delS]\n",
    "vals_put = [putPrice(S, X, r, T, sigma) for x in delS]\n",
    "plt.plot(delS,vals_call, 'r', label = \"Call\")\n",
    "plt.plot(delS, vals_put, 'b', label  = \"Put\")\n",
    "plt.legend()\n",
    "plt.show()"
   ]
  },
  {
   "cell_type": "code",
   "execution_count": 16,
   "metadata": {},
   "outputs": [],
   "source": [
    "# Binomial model\n",
    "dt = T / N\n",
    "u = np.exp(sigma*np.sqrt(dt))\n",
    "d = np.exp(-sigma*np.sqrt(dt))\n",
    "p = (np.exp(r*dt) - d) / (u - d)\n",
    "def Sij(S, u, d, j):\n",
    "    return S * (u**i) * d(j-i)\n",
    "\n",
    "# European \n",
    "def callBinomial(n, p, S, u, d, X):\n",
    "    i = range(n) \n",
    "    return np.exp(-r*T) * (n / (i*(n-i)))*(p**i)*((1-p)**(n-i))*max(Sij(S, u, d, n) - X, 0)\n",
    "def putBinomial(n, p, S, u, d, X):\n",
    "    i = range(n) # ???\n",
    "    return np.exp(-r*T) * (n / (i*(n-i)))*(p**i)*((1-p)**(n-i))*max(-Sij(S, u, d, n) + X, 0)\n",
    "\n",
    "# American put option\n",
    "def AmericanPut(X, i, j, p):\n",
    "    return max(X - Sij(S, u, d, j), np.exp(-r*T)*(p*AmericanPut(X, i+1, j+1, p) + (1-p)*AmericanPut(X, i, j+1, p)))"
   ]
  },
  {
   "cell_type": "code",
   "execution_count": null,
   "metadata": {},
   "outputs": [],
   "source": []
  }
 ],
 "metadata": {
  "kernelspec": {
   "display_name": "Python 3",
   "language": "python",
   "name": "python3"
  },
  "language_info": {
   "codemirror_mode": {
    "name": "ipython",
    "version": 3
   },
   "file_extension": ".py",
   "mimetype": "text/x-python",
   "name": "python",
   "nbconvert_exporter": "python",
   "pygments_lexer": "ipython3",
   "version": "3.7.4"
  }
 },
 "nbformat": 4,
 "nbformat_minor": 2
}
